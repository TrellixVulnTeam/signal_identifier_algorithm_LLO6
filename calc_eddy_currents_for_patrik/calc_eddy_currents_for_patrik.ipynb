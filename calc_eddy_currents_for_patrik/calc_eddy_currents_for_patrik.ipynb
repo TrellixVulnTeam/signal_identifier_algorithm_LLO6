{
 "cells": [
  {
   "cell_type": "markdown",
   "metadata": {},
   "source": [
    "## Calculate eddy currents (for examples of transient patterns)"
   ]
  },
  {
   "cell_type": "code",
   "execution_count": 1,
   "metadata": {
    "collapsed": false,
    "deletable": true,
    "editable": true,
    "jupyter": {
     "outputs_hidden": false
    }
   },
   "outputs": [],
   "source": [
    "%matplotlib qt5\n",
    "import matplotlib.pyplot as plt\n",
    "import numpy as np\n",
    "import sys"
   ]
  },
  {
   "cell_type": "code",
   "execution_count": 5,
   "metadata": {
    "collapsed": false,
    "deletable": true,
    "editable": true,
    "jupyter": {
     "outputs_hidden": false
    }
   },
   "outputs": [],
   "source": [
    "from coils.eddycurrents0 import diagonalize, transient_amplitudes, SplitBoxRoom, UNIT\n",
    "from coils.coils import ScalarCoilPlate, DipoleSet\n",
    "import pyfunk as pf"
   ]
  },
  {
   "cell_type": "markdown",
   "metadata": {},
   "source": [
    "Define some helper classes and functions"
   ]
  },
  {
   "cell_type": "code",
   "execution_count": 6,
   "metadata": {
    "collapsed": false,
    "deletable": true,
    "editable": true,
    "jupyter": {
     "outputs_hidden": false
    }
   },
   "outputs": [],
   "source": [
    "def inv_step_response(system, coil, field_p, field_dir, length, mode_selection = None):\n",
    "    \"\"\"Get inverse step response of an eddy-current system to pulsed coil.\n",
    "    \n",
    "    Arguments:\n",
    "        system: the eddy current system (CoilSystem object)\n",
    "        coil: an CoilSystem object representing the coil\n",
    "        field_p: the point at which the field is measured\n",
    "        field_dir: a unit vector in the direction of the field measurement\n",
    "        length: length of the inverse step response in seconds\n",
    "    \"\"\"\n",
    "    \n",
    "    def mode_responses():\n",
    "        from functools import partial\n",
    "        fun = lambda t, tau: np.exp(-t/tau)\n",
    "        for lambda_, tau in zip(system.lambdas, system.tau):\n",
    "            yield pf.Function(partial(fun, tau=tau), (0.0, length))\n",
    "        \n",
    "    basis = FunctionBasis(mode_responses())\n",
    "    \n",
    "    coil_c = coil.mutual_inductances(system).flatten()\n",
    "    field_c = system.generated_fields(field_p).T.dot(field_dir.flatten())\n",
    "    \n",
    "    mode_input = system.V.T.dot(coil_c) / system.lambdas\n",
    "    mode_output = system.V.T.dot(field_c)\n",
    "    \n",
    "    return basis.get_waveform(mode_input * mode_output)\n",
    "\n",
    "def calc_response(pulse, resp_function):\n",
    "    \"\"\"Get system response to pulse, based on given inverse step response.\"\"\"\n",
    "    return -pulse.differentiate().convolve(resp_function)\n",
    "\n",
    "class LinearCombination(pf.Waveform):\n",
    "    \"\"\"A waveform that is a linear combination of other waveforms.\"\"\"\n",
    "    \n",
    "    def __init__(self, functions, coefficients):\n",
    "        self.coefficients = coefficients\n",
    "        self.functions = functions\n",
    "        self.bound_tags = \\\n",
    "            tuple((max((b.bound_tags[0] for b in self.functions), key = lambda x: x.value),\n",
    "                   min((b.bound_tags[1] for b in self.functions), key = lambda x: x.value)))\n",
    "\n",
    "    def sample(self, positions):\n",
    "        return np.sum([bf.sample(positions) * c \n",
    "                           for bf, c in zip(self.functions, self.coefficients)], axis = 0)\n",
    "\n",
    "class FunctionBasis(object):\n",
    "    \"\"\"A waveform function basis\"\"\"\n",
    "    def __init__(self, basis_waveforms):\n",
    "        self.functions = list(basis_waveforms)\n",
    "    \n",
    "    def get_waveform(self, coefficients):\n",
    "        \"\"\"Get the waveform based on a coefficient or 'coordinate' vector.\"\"\"\n",
    "        return LinearCombination(self.functions, coefficients)\n"
   ]
  },
  {
   "cell_type": "markdown",
   "metadata": {
    "deletable": true,
    "editable": true
   },
   "source": [
    "Define the shielded room and coils for computational modeling."
   ]
  },
  {
   "cell_type": "code",
   "execution_count": 7,
   "metadata": {
    "collapsed": false,
    "deletable": true,
    "editable": true,
    "jupyter": {
     "outputs_hidden": false
    }
   },
   "outputs": [],
   "source": [
    "# Some ft units are used to define this, because it is how the Berkeley\n",
    "# shielded room was built, but everything gets quickly converted to SI units\n",
    "room = SplitBoxRoom(detail_scale = UNIT.FOOT,\n",
    "                    thickness = 10e-3)\n",
    "diagonalize(room)\n",
    "\n",
    "# polarizing coil (modeled as a dipole)\n",
    "# 2022-06: tämän suuntaa on myös helppo kääntää t. Koos\n",
    "\n",
    "p_n = 240.0\n",
    "p_r = 0.19\n",
    "p_I = 200.0\n",
    "\n",
    "p_center = np.array([0,0,-3.0 * 0.0254]) # position of coil center\n",
    "p_dipole = np.array([0,0,1.]) * p_n * np.pi * p_r**2 # dipole moment\n",
    "p_coil = DipoleSet(p_center, p_dipole)\n",
    "\n",
    "# DynaCAN coil (larger square)\n",
    "c_side = 1.85\n",
    "c_turns = 30\n",
    "c_res = 100\n",
    "c_R = 30./40*1.2\n",
    "c_L = (30./40)**2*10e-3\n",
    "c_center = -4*UNIT.FOOT + 1.125\n",
    "c_coil = ScalarCoilPlate(c_center,\n",
    "                         (np.array([c_side,0,0]), np.array([0,c_side,0])),\n",
    "                         np.ones((1,c_res,c_res)) * c_turns,\n",
    "                         label = \"dynacan_coil\")"
   ]
  },
  {
   "cell_type": "markdown",
   "metadata": {},
   "source": [
    "Prepare to test by calculating ISRs for the two coils and a magnetic field measurement."
   ]
  },
  {
   "cell_type": "code",
   "execution_count": 8,
   "metadata": {
    "deletable": true,
    "editable": true,
    "tags": []
   },
   "outputs": [
    {
     "name": "stdout",
     "output_type": "stream",
     "text": [
      "....................."
     ]
    }
   ],
   "source": [
    "field_p = np.array([0,0,0]) # measurement point\n",
    "field_dir = np.array([0,0,1.]) # unit vector for field component\n",
    "\n",
    "isr_length = 500e-3\n",
    "# calculate inverse step responses for both coils\n",
    "p_isr = inv_step_response(room, p_coil, \n",
    "                          field_p, field_dir, isr_length).to_samples()\n",
    "c_isr = inv_step_response(room, c_coil, \n",
    "                          field_p, field_dir, isr_length).to_samples()"
   ]
  },
  {
   "cell_type": "markdown",
   "metadata": {},
   "source": [
    "Try computing the eddy currents caused by a polarizing pulse."
   ]
  },
  {
   "cell_type": "code",
   "execution_count": 13,
   "metadata": {
    "collapsed": false,
    "deletable": true,
    "editable": true,
    "jupyter": {
     "outputs_hidden": false
    }
   },
   "outputs": [],
   "source": [
    "p_ramp_time = 11.6e-3\n",
    "p_pulse = p_I * pf.RampedBox(1.0, \n",
    "                             (-0.2, -p_ramp_time), \n",
    "                             (10e-3, p_ramp_time), \n",
    "                             (pf.LinearRamp, pf.QuarterCosineRamp))\n",
    "\n",
    "# calculate response from p coil pulse\n",
    "p_trans = calc_response(p_pulse, p_isr)"
   ]
  },
  {
   "cell_type": "code",
   "execution_count": 14,
   "metadata": {},
   "outputs": [],
   "source": [
    "plt.figure(\"Polarizing pulse response\")\n",
    "p_trans.plot()\n",
    "plt.xlabel(\"Time [s]\")\n",
    "plt.ylabel(\"Magnetic field [T]\")\n",
    "plt.tight_layout()"
   ]
  },
  {
   "cell_type": "markdown",
   "metadata": {},
   "source": [
    "Try with some random pulse waveform fed into the DynaCAN coil"
   ]
  },
  {
   "cell_type": "code",
   "execution_count": 15,
   "metadata": {},
   "outputs": [],
   "source": [
    "pulse_duration = 100e-3\n",
    "\n",
    "n_basis = 20\n",
    "basis_wfs = [pf.Function(lambda x, n = n: np.sin(-x/pulse_duration * n * np.pi), (-pulse_duration, 0))\n",
    "                 for n in range(1, n_basis + 1)]\n",
    "basis = FunctionBasis(basis_wfs)\n",
    "\n"
   ]
  },
  {
   "cell_type": "code",
   "execution_count": 16,
   "metadata": {},
   "outputs": [],
   "source": [
    "# random waveform times 1 ampere\n",
    "rand_coefficients = 2.0*(np.random.rand(n_basis)-0.5)\n",
    "rand_coefficients[0:2] = 0 # Get some more interesting transients\n",
    "randompulse = 1.0 * basis.get_waveform(rand_coefficients) \n",
    "c_trans_from_random = calc_response(randompulse, c_isr).clip(0.0, isr_length - pulse_duration)\n"
   ]
  },
  {
   "cell_type": "code",
   "execution_count": 17,
   "metadata": {},
   "outputs": [],
   "source": [
    "plt.figure(\"Random pulse response\")\n",
    "plt.subplot(2,1,1)\n",
    "randompulse.plot()\n",
    "plt.xlabel(\"Time [s]\")\n",
    "plt.ylabel(\"Current [A]\")\n",
    "plt.subplot(2,1,2)\n",
    "c_trans_from_random.plot()\n",
    "plt.xlabel(\"Time [s]\")\n",
    "plt.ylabel(\"Magnetic field [T]\")\n",
    "plt.tight_layout()"
   ]
  },
  {
   "cell_type": "markdown",
   "metadata": {},
   "source": [
    "The result can be sampled at a number of time points by calling `c_trans_from_random.sample(array_with_time_points)`."
   ]
  },
  {
   "cell_type": "markdown",
   "metadata": {},
   "source": [
    "The field can be computed at different points in space with separate ISRs corresponding to each point. Let's load up the locations of the sensors."
   ]
  },
  {
   "cell_type": "code",
   "execution_count": 18,
   "metadata": {},
   "outputs": [],
   "source": [
    "array120 = dict(np.load(\"array120_trans_newnames.npz\"))"
   ]
  },
  {
   "cell_type": "code",
   "execution_count": 19,
   "metadata": {},
   "outputs": [
    {
     "data": {
      "text/plain": [
       "array([[-0.0127    , -0.186801  , -0.98232698, -0.1066    ],\n",
       "       [ 0.0057    , -0.98240298,  0.18674099,  0.0464    ],\n",
       "       [-0.99990302, -0.0033    ,  0.013541  , -0.0604    ],\n",
       "       [ 0.        ,  0.        ,  0.        ,  1.        ]])"
      ]
     },
     "execution_count": 19,
     "metadata": {},
     "output_type": "execute_result"
    }
   ],
   "source": [
    "array120[\"MEG0111\"]"
   ]
  },
  {
   "cell_type": "markdown",
   "metadata": {},
   "source": [
    "This is a 4x4 transformation matrix for transforming a point $[x,y,z,1]$ from the coordinate system of the individual sensor into the laboratory coordinate system. Hence, the position (center) of the sensor is given by matrix[:3, 3] and the direction of the $z$ axis of the sensor is given by matrix[:3, 2].\n",
    "\n",
    "Each magnetometer measures the field component along its own $z$ axis."
   ]
  },
  {
   "cell_type": "code",
   "execution_count": 20,
   "metadata": {},
   "outputs": [],
   "source": [
    "#TODO: compute an ISR for each sensor and use that to obtain time traces for each sensor"
   ]
  },
  {
   "cell_type": "markdown",
   "metadata": {},
   "source": [
    "We can also plot values as colors on the helmet, as shown below. You could plot e.g. some some component in multidimensional signal space, or a binary value of whether the some specific thing is going on with the channel."
   ]
  },
  {
   "cell_type": "code",
   "execution_count": null,
   "metadata": {},
   "outputs": [],
   "source": [
    "import viz\n",
    "from mayavi import mlab\n",
    "\n",
    "viz.plot_sensor_data([\"MEG0241\"],\n",
    "                     [0.0,4.0,10.0])\n",
    "mlab.show()"
   ]
  },
  {
   "cell_type": "code",
   "execution_count": null,
   "metadata": {},
   "outputs": [],
   "source": []
  },
  {
   "cell_type": "code",
   "execution_count": null,
   "metadata": {},
   "outputs": [],
   "source": []
  },
  {
   "cell_type": "code",
   "execution_count": null,
   "metadata": {},
   "outputs": [],
   "source": []
  }
 ],
 "metadata": {
  "kernelspec": {
   "display_name": "Python 3",
   "language": "python",
   "name": "python3"
  },
  "language_info": {
   "codemirror_mode": {
    "name": "ipython",
    "version": 3
   },
   "file_extension": ".py",
   "mimetype": "text/x-python",
   "name": "python",
   "nbconvert_exporter": "python",
   "pygments_lexer": "ipython3",
   "version": "3.7.10"
  }
 },
 "nbformat": 4,
 "nbformat_minor": 4
}
