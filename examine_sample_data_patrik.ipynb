{
 "cells": [
  {
   "cell_type": "code",
   "execution_count": 1,
   "id": "660c0a1e-9ae4-4c4f-a53c-7344f359f82a",
   "metadata": {},
   "outputs": [],
   "source": [
    "%matplotlib qt5"
   ]
  },
  {
   "cell_type": "code",
   "execution_count": 2,
   "id": "2cc98579-4dc9-4b25-973f-64f3d3abdfa7",
   "metadata": {},
   "outputs": [],
   "source": [
    "from dataio import MultiChannelData"
   ]
  },
  {
   "cell_type": "code",
   "execution_count": 5,
   "id": "37b301c0-ec67-4a20-aa0f-5e05e3f4e726",
   "metadata": {},
   "outputs": [],
   "source": [
    "filename = \"example_data_for_patrik/many_failed.npz\""
   ]
  },
  {
   "cell_type": "code",
   "execution_count": 6,
   "id": "558e3385-188d-480e-86c7-c1217d939533",
   "metadata": {
    "tags": []
   },
   "outputs": [],
   "source": [
    "data = MultiChannelData.load_npz(filename)"
   ]
  },
  {
   "cell_type": "code",
   "execution_count": 18,
   "id": "89ff633e-5679-4a76-bd4a-5d69ff3739c5",
   "metadata": {},
   "outputs": [],
   "source": [
    "data.clip((0.210, 0.50)).subpool([\"MEG12*1\", \"MEG01*1\"]).plot()"
   ]
  },
  {
   "cell_type": "code",
   "execution_count": null,
   "id": "dd6f36cb-3705-439b-b760-57f8b9707e39",
   "metadata": {},
   "outputs": [],
   "source": []
  },
  {
   "cell_type": "code",
   "execution_count": null,
   "id": "7489015c",
   "metadata": {},
   "outputs": [],
   "source": []
  }
 ],
 "metadata": {
  "kernelspec": {
   "display_name": "Python 3",
   "language": "python",
   "name": "python3"
  },
  "language_info": {
   "codemirror_mode": {
    "name": "ipython",
    "version": 3
   },
   "file_extension": ".py",
   "mimetype": "text/x-python",
   "name": "python",
   "nbconvert_exporter": "python",
   "pygments_lexer": "ipython3",
   "version": "3.7.10"
  }
 },
 "nbformat": 4,
 "nbformat_minor": 5
}
