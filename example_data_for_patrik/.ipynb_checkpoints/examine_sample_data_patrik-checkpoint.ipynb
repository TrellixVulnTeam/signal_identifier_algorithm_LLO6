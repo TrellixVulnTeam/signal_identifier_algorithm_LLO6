{
 "cells": [
  {
   "cell_type": "code",
   "execution_count": 1,
   "id": "660c0a1e-9ae4-4c4f-a53c-7344f359f82a",
   "metadata": {},
   "outputs": [],
   "source": [
    "%matplotlib qt5"
   ]
  },
  {
   "cell_type": "code",
   "execution_count": 2,
   "id": "2cc98579-4dc9-4b25-973f-64f3d3abdfa7",
   "metadata": {},
   "outputs": [],
   "source": [
    "from dataio import MultiChannelData"
   ]
  },
  {
   "cell_type": "code",
   "execution_count": 264,
   "id": "37b301c0-ec67-4a20-aa0f-5e05e3f4e726",
   "metadata": {},
   "outputs": [],
   "source": [
    "# paljon onnistuneita = \"/run/media/k7hoven/Red500/meas_data/2020-09_mri/first_image3_2020-09-01_225626_step-22_repeat06.npz\"\n",
    "# hyvin paljon onnistuneita = \"/run/media/k7hoven/Red500/meas_data/2020-09_mri/first_image3_2020-09-01_225626_step025_repeat06.npz\"\n",
    "# hyvin paljon onnistuneita = \"/run/media/k7hoven/Red500/meas_data/2020-09_mri/first_image3_2020-09-01_225626_step035_repeat06.npz\"\n",
    "# paljon epäonnistuneita = \"/run/media/k7hoven/Red500/meas_data/2020-09_mri/first_image3_2020-09-01_225626_step005_repeat06.npz\"\n",
    "filename = \"/run/media/k7hoven/Red500/meas_data/2020-09_mri/first_image3_2020-09-01_225626_step005_repeat06.npz\"\n"
   ]
  },
  {
   "cell_type": "code",
   "execution_count": 265,
   "id": "558e3385-188d-480e-86c7-c1217d939533",
   "metadata": {
    "tags": []
   },
   "outputs": [],
   "source": [
    "data = MultiChannelData.load_npz(filename)"
   ]
  },
  {
   "cell_type": "code",
   "execution_count": 268,
   "id": "89ff633e-5679-4a76-bd4a-5d69ff3739c5",
   "metadata": {},
   "outputs": [],
   "source": [
    "data.clip((0.210, 0.50)).subpool([\"MEG20*1\", \"MEG17*1\"]).plot()"
   ]
  },
  {
   "cell_type": "code",
   "execution_count": 237,
   "id": "b09d04c2-e0ef-4741-bf7c-3313a2cfe3c3",
   "metadata": {},
   "outputs": [],
   "source": [
    "import np"
   ]
  },
  {
   "cell_type": "code",
   "execution_count": 19,
   "id": "a3f86055-fa9f-40ea-9b38-fb3bc5f5f83d",
   "metadata": {},
   "outputs": [],
   "source": [
    "filedata = np.load(filename)"
   ]
  },
  {
   "cell_type": "code",
   "execution_count": 20,
   "id": "3caf4ddc-9a66-489b-9a77-e9d87ef6b7bd",
   "metadata": {},
   "outputs": [
    {
     "data": {
      "text/plain": [
       "['descr', 'data', 'names', 'time']"
      ]
     },
     "execution_count": 20,
     "metadata": {},
     "output_type": "execute_result"
    }
   ],
   "source": [
    "list(filedata.keys())"
   ]
  },
  {
   "cell_type": "code",
   "execution_count": 21,
   "id": "8310b059-5581-4b33-8dab-a9d689e3423f",
   "metadata": {},
   "outputs": [
    {
     "data": {
      "text/plain": [
       "(45551, 140)"
      ]
     },
     "execution_count": 21,
     "metadata": {},
     "output_type": "execute_result"
    }
   ],
   "source": [
    "filedata[\"data\"].shape"
   ]
  },
  {
   "cell_type": "code",
   "execution_count": 22,
   "id": "869a2cba-bf73-4096-a183-4e186bbce380",
   "metadata": {},
   "outputs": [],
   "source": [
    "data = filedata['data']"
   ]
  },
  {
   "cell_type": "code",
   "execution_count": 23,
   "id": "9259aa61-9511-4506-a2fe-5465add3d5b6",
   "metadata": {},
   "outputs": [
    {
     "data": {
      "text/plain": [
       "array([[0.        , 4.91999626, 0.        , ..., 0.        , 0.        ,\n",
       "        0.        ],\n",
       "       [0.        , 4.91999626, 0.        , ..., 0.        , 0.        ,\n",
       "        0.        ],\n",
       "       [0.        , 4.91999626, 0.        , ..., 0.        , 0.        ,\n",
       "        0.        ],\n",
       "       ...,\n",
       "       [0.        , 4.91999626, 0.        , ..., 4.9125452 , 0.        ,\n",
       "        0.        ],\n",
       "       [0.        , 0.        , 0.        , ..., 0.        , 0.        ,\n",
       "        0.        ],\n",
       "       [0.        , 0.        , 0.        , ..., 0.        , 0.        ,\n",
       "        0.        ]])"
      ]
     },
     "execution_count": 23,
     "metadata": {},
     "output_type": "execute_result"
    }
   ],
   "source": [
    "data"
   ]
  },
  {
   "cell_type": "code",
   "execution_count": 24,
   "id": "41136ea9-2734-4980-b4fa-a3ca9baed31b",
   "metadata": {},
   "outputs": [
    {
     "data": {
      "text/plain": [
       "(45551, 140)"
      ]
     },
     "execution_count": 24,
     "metadata": {},
     "output_type": "execute_result"
    }
   ],
   "source": [
    "data.shape"
   ]
  },
  {
   "cell_type": "code",
   "execution_count": 25,
   "id": "b62cb57e-bf0d-4066-b2ea-5032bdeb8e9d",
   "metadata": {},
   "outputs": [
    {
     "data": {
      "text/plain": [
       "array([[0.        , 4.91999626, 0.        , ..., 0.        , 0.        ,\n",
       "        0.        ],\n",
       "       [0.        , 4.91999626, 0.        , ..., 0.        , 0.        ,\n",
       "        0.        ],\n",
       "       [0.        , 4.91999626, 0.        , ..., 0.        , 0.        ,\n",
       "        0.        ],\n",
       "       ...,\n",
       "       [0.        , 4.91999626, 0.        , ..., 4.9125452 , 0.        ,\n",
       "        0.        ],\n",
       "       [0.        , 0.        , 0.        , ..., 0.        , 0.        ,\n",
       "        0.        ],\n",
       "       [0.        , 0.        , 0.        , ..., 0.        , 0.        ,\n",
       "        0.        ]])"
      ]
     },
     "execution_count": 25,
     "metadata": {},
     "output_type": "execute_result"
    }
   ],
   "source": [
    "filedata[\"data\"]"
   ]
  },
  {
   "cell_type": "code",
   "execution_count": null,
   "id": "dd6f36cb-3705-439b-b760-57f8b9707e39",
   "metadata": {},
   "outputs": [],
   "source": []
  }
 ],
 "metadata": {
  "kernelspec": {
   "display_name": "Python 3 (ipykernel)",
   "language": "python",
   "name": "python3"
  },
  "language_info": {
   "codemirror_mode": {
    "name": "ipython",
    "version": 3
   },
   "file_extension": ".py",
   "mimetype": "text/x-python",
   "name": "python",
   "nbconvert_exporter": "python",
   "pygments_lexer": "ipython3",
   "version": "3.9.12"
  }
 },
 "nbformat": 4,
 "nbformat_minor": 5
}
